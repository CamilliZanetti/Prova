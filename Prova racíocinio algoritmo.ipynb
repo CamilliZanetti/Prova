{
 "cells": [
  {
   "cell_type": "code",
   "execution_count": 2,
   "id": "33a79fad-df7a-459d-b727-7367b822b490",
   "metadata": {},
   "outputs": [
    {
     "name": "stdout",
     "output_type": "stream",
     "text": [
      "Collecting pandas-datareader\n",
      "  Downloading pandas_datareader-0.10.0-py3-none-any.whl (109 kB)\n",
      "     -------------------------------------- 109.5/109.5 kB 3.2 MB/s eta 0:00:00\n",
      "Requirement already satisfied: pandas>=0.23 in c:\\users\\ana\\anaconda3\\lib\\site-packages (from pandas-datareader) (1.5.3)\n",
      "Requirement already satisfied: requests>=2.19.0 in c:\\users\\ana\\anaconda3\\lib\\site-packages (from pandas-datareader) (2.28.1)\n",
      "Requirement already satisfied: lxml in c:\\users\\ana\\anaconda3\\lib\\site-packages (from pandas-datareader) (4.9.1)\n",
      "Requirement already satisfied: python-dateutil>=2.8.1 in c:\\users\\ana\\anaconda3\\lib\\site-packages (from pandas>=0.23->pandas-datareader) (2.8.2)\n",
      "Requirement already satisfied: numpy>=1.21.0 in c:\\users\\ana\\anaconda3\\lib\\site-packages (from pandas>=0.23->pandas-datareader) (1.23.5)\n",
      "Requirement already satisfied: pytz>=2020.1 in c:\\users\\ana\\anaconda3\\lib\\site-packages (from pandas>=0.23->pandas-datareader) (2022.7)\n",
      "Requirement already satisfied: urllib3<1.27,>=1.21.1 in c:\\users\\ana\\anaconda3\\lib\\site-packages (from requests>=2.19.0->pandas-datareader) (1.26.14)\n",
      "Requirement already satisfied: certifi>=2017.4.17 in c:\\users\\ana\\anaconda3\\lib\\site-packages (from requests>=2.19.0->pandas-datareader) (2022.12.7)\n",
      "Requirement already satisfied: idna<4,>=2.5 in c:\\users\\ana\\anaconda3\\lib\\site-packages (from requests>=2.19.0->pandas-datareader) (3.4)\n",
      "Requirement already satisfied: charset-normalizer<3,>=2 in c:\\users\\ana\\anaconda3\\lib\\site-packages (from requests>=2.19.0->pandas-datareader) (2.0.4)\n",
      "Requirement already satisfied: six>=1.5 in c:\\users\\ana\\anaconda3\\lib\\site-packages (from python-dateutil>=2.8.1->pandas>=0.23->pandas-datareader) (1.16.0)\n",
      "Installing collected packages: pandas-datareader\n",
      "Successfully installed pandas-datareader-0.10.0\n",
      "Note: you may need to restart the kernel to use updated packages.\n"
     ]
    }
   ],
   "source": [
    "pip install pandas-datareader "
   ]
  },
  {
   "cell_type": "code",
   "execution_count": 4,
   "id": "3b3aa88a-4a71-426f-956f-38d282077faa",
   "metadata": {},
   "outputs": [],
   "source": [
    "import pandas_datareader.data as web\n",
    "import datetime as dt\n",
    "import numpy as np\n",
    "import matplotlib.pyplot as plt\n",
    "import pandas as pd"
   ]
  },
  {
   "cell_type": "code",
   "execution_count": 6,
   "id": "be41d068-775f-4ed9-a807-dfe3dc184f03",
   "metadata": {},
   "outputs": [],
   "source": [
    "data= web.DataReader('AAPL','stooq')"
   ]
  },
  {
   "cell_type": "code",
   "execution_count": 7,
   "id": "8f762bc0-ac94-4b3c-a7ce-01dab873d43b",
   "metadata": {},
   "outputs": [
    {
     "data": {
      "text/html": [
       "<div>\n",
       "<style scoped>\n",
       "    .dataframe tbody tr th:only-of-type {\n",
       "        vertical-align: middle;\n",
       "    }\n",
       "\n",
       "    .dataframe tbody tr th {\n",
       "        vertical-align: top;\n",
       "    }\n",
       "\n",
       "    .dataframe thead th {\n",
       "        text-align: right;\n",
       "    }\n",
       "</style>\n",
       "<table border=\"1\" class=\"dataframe\">\n",
       "  <thead>\n",
       "    <tr style=\"text-align: right;\">\n",
       "      <th></th>\n",
       "      <th>Open</th>\n",
       "      <th>High</th>\n",
       "      <th>Low</th>\n",
       "      <th>Close</th>\n",
       "      <th>Volume</th>\n",
       "    </tr>\n",
       "    <tr>\n",
       "      <th>Date</th>\n",
       "      <th></th>\n",
       "      <th></th>\n",
       "      <th></th>\n",
       "      <th></th>\n",
       "      <th></th>\n",
       "    </tr>\n",
       "  </thead>\n",
       "  <tbody>\n",
       "    <tr>\n",
       "      <th>2023-06-20</th>\n",
       "      <td>184.4100</td>\n",
       "      <td>186.1000</td>\n",
       "      <td>184.4100</td>\n",
       "      <td>185.0100</td>\n",
       "      <td>4.979909e+07</td>\n",
       "    </tr>\n",
       "    <tr>\n",
       "      <th>2023-06-16</th>\n",
       "      <td>186.7300</td>\n",
       "      <td>186.9900</td>\n",
       "      <td>184.2700</td>\n",
       "      <td>184.9200</td>\n",
       "      <td>1.012562e+08</td>\n",
       "    </tr>\n",
       "    <tr>\n",
       "      <th>2023-06-15</th>\n",
       "      <td>183.9600</td>\n",
       "      <td>186.5200</td>\n",
       "      <td>183.7800</td>\n",
       "      <td>186.0100</td>\n",
       "      <td>6.543317e+07</td>\n",
       "    </tr>\n",
       "    <tr>\n",
       "      <th>2023-06-14</th>\n",
       "      <td>183.3700</td>\n",
       "      <td>184.3900</td>\n",
       "      <td>182.0200</td>\n",
       "      <td>183.9500</td>\n",
       "      <td>5.746288e+07</td>\n",
       "    </tr>\n",
       "    <tr>\n",
       "      <th>2023-06-13</th>\n",
       "      <td>182.8000</td>\n",
       "      <td>184.1500</td>\n",
       "      <td>182.4400</td>\n",
       "      <td>183.3100</td>\n",
       "      <td>5.492913e+07</td>\n",
       "    </tr>\n",
       "    <tr>\n",
       "      <th>...</th>\n",
       "      <td>...</td>\n",
       "      <td>...</td>\n",
       "      <td>...</td>\n",
       "      <td>...</td>\n",
       "      <td>...</td>\n",
       "    </tr>\n",
       "    <tr>\n",
       "      <th>2018-06-28</th>\n",
       "      <td>44.1104</td>\n",
       "      <td>44.6179</td>\n",
       "      <td>44.0396</td>\n",
       "      <td>44.4505</td>\n",
       "      <td>7.247152e+07</td>\n",
       "    </tr>\n",
       "    <tr>\n",
       "      <th>2018-06-27</th>\n",
       "      <td>44.3856</td>\n",
       "      <td>44.8782</td>\n",
       "      <td>44.0945</td>\n",
       "      <td>44.1244</td>\n",
       "      <td>1.055250e+08</td>\n",
       "    </tr>\n",
       "    <tr>\n",
       "      <th>2018-06-26</th>\n",
       "      <td>43.8493</td>\n",
       "      <td>44.6937</td>\n",
       "      <td>43.7415</td>\n",
       "      <td>44.1912</td>\n",
       "      <td>1.025363e+08</td>\n",
       "    </tr>\n",
       "    <tr>\n",
       "      <th>2018-06-25</th>\n",
       "      <td>43.9460</td>\n",
       "      <td>44.3108</td>\n",
       "      <td>43.3030</td>\n",
       "      <td>43.6499</td>\n",
       "      <td>1.321418e+08</td>\n",
       "    </tr>\n",
       "    <tr>\n",
       "      <th>2018-06-22</th>\n",
       "      <td>44.5979</td>\n",
       "      <td>44.6059</td>\n",
       "      <td>44.2560</td>\n",
       "      <td>44.3108</td>\n",
       "      <td>1.135175e+08</td>\n",
       "    </tr>\n",
       "  </tbody>\n",
       "</table>\n",
       "<p>1256 rows × 5 columns</p>\n",
       "</div>"
      ],
      "text/plain": [
       "                Open      High       Low     Close        Volume\n",
       "Date                                                            \n",
       "2023-06-20  184.4100  186.1000  184.4100  185.0100  4.979909e+07\n",
       "2023-06-16  186.7300  186.9900  184.2700  184.9200  1.012562e+08\n",
       "2023-06-15  183.9600  186.5200  183.7800  186.0100  6.543317e+07\n",
       "2023-06-14  183.3700  184.3900  182.0200  183.9500  5.746288e+07\n",
       "2023-06-13  182.8000  184.1500  182.4400  183.3100  5.492913e+07\n",
       "...              ...       ...       ...       ...           ...\n",
       "2018-06-28   44.1104   44.6179   44.0396   44.4505  7.247152e+07\n",
       "2018-06-27   44.3856   44.8782   44.0945   44.1244  1.055250e+08\n",
       "2018-06-26   43.8493   44.6937   43.7415   44.1912  1.025363e+08\n",
       "2018-06-25   43.9460   44.3108   43.3030   43.6499  1.321418e+08\n",
       "2018-06-22   44.5979   44.6059   44.2560   44.3108  1.135175e+08\n",
       "\n",
       "[1256 rows x 5 columns]"
      ]
     },
     "execution_count": 7,
     "metadata": {},
     "output_type": "execute_result"
    }
   ],
   "source": [
    "data"
   ]
  },
  {
   "cell_type": "code",
   "execution_count": 13,
   "id": "8ca3432d-ad1e-441e-b6ee-011fc76e756b",
   "metadata": {},
   "outputs": [
    {
     "name": "stdout",
     "output_type": "stream",
     "text": [
      "não comprar\n",
      "não comprar\n",
      "não comprar\n",
      "não comprar\n",
      "não comprar\n"
     ]
    }
   ],
   "source": [
    "lista = data\n",
    "for elemento in lista:\n",
    "    if isinstance(elemento, int) and elemento <= 20:\n",
    "        print ('comprar')\n",
    "    else:\n",
    "        print('não comprar')"
   ]
  },
  {
   "cell_type": "code",
   "execution_count": 14,
   "id": "7a1cb1ca-7b21-44c8-ab76-43b3a24bc139",
   "metadata": {},
   "outputs": [
    {
     "name": "stdout",
     "output_type": "stream",
     "text": [
      "141194907816.05814\n"
     ]
    }
   ],
   "source": [
    "from functools import reduce\n",
    "numeros = data[\"Volume\"]\n",
    "somas_dos_numeros = reduce(lambda x, y: x + y, numeros )\n",
    "print (somas_dos_numeros)"
   ]
  },
  {
   "cell_type": "code",
   "execution_count": 15,
   "id": "17dedce4-c314-4a88-82ab-188bb8b649f5",
   "metadata": {},
   "outputs": [
    {
     "name": "stdout",
     "output_type": "stream",
     "text": [
      "140385.70309999998\n"
     ]
    }
   ],
   "source": [
    "inicio = dt.datetime(2018,1,1)\n",
    "fim = dt.datetime.now()\n",
    "data = web.DataReader('AAPL','stooq', inicio, fim)\n",
    "\n",
    "soma_da_coluna = data ['Open']\n",
    "resultado = sum(soma_da_coluna)\n",
    "print(resultado)"
   ]
  },
  {
   "cell_type": "code",
   "execution_count": 22,
   "id": "f33c02df-81bf-4dbc-ad67-c651f878f39d",
   "metadata": {},
   "outputs": [
    {
     "name": "stdout",
     "output_type": "stream",
     "text": [
      "             Open   High    Low  Close  Volume\n",
      "Date                                          \n",
      "2023-06-21  False  False  False  False   False\n",
      "2023-06-20  False  False  False  False    True\n",
      "2023-06-16  False  False  False  False   False\n",
      "2023-06-15  False  False  False  False    True\n",
      "2023-06-14  False  False  False  False    True\n",
      "...           ...    ...    ...    ...     ...\n",
      "2018-03-14  False  False  False  False   False\n",
      "2018-03-13  False  False  False  False   False\n",
      "2018-03-12  False  False  False  False   False\n",
      "2018-03-09  False  False  False  False   False\n",
      "2018-03-08  False  False  False  False   False\n",
      "\n",
      "[1331 rows x 5 columns]\n"
     ]
    }
   ],
   "source": [
    "inicio= dt.datetime(2018,3,8)\n",
    "end=dt.datetime.now()\n",
    "data=web.DataReader('AAPL','stooq', inicio, fim)\n",
    "median= data%2==0\n",
    "print(median)"
   ]
  },
  {
   "cell_type": "code",
   "execution_count": null,
   "id": "a51240eb-5cf2-4c59-a601-e6bb46b13935",
   "metadata": {},
   "outputs": [],
   "source": []
  }
 ],
 "metadata": {
  "kernelspec": {
   "display_name": "Python 3 (ipykernel)",
   "language": "python",
   "name": "python3"
  },
  "language_info": {
   "codemirror_mode": {
    "name": "ipython",
    "version": 3
   },
   "file_extension": ".py",
   "mimetype": "text/x-python",
   "name": "python",
   "nbconvert_exporter": "python",
   "pygments_lexer": "ipython3",
   "version": "3.10.9"
  }
 },
 "nbformat": 4,
 "nbformat_minor": 5
}
